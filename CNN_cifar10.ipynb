{
  "nbformat": 4,
  "nbformat_minor": 0,
  "metadata": {
    "kernelspec": {
      "display_name": "Python 3",
      "language": "python",
      "name": "python3"
    },
    "language_info": {
      "codemirror_mode": {
        "name": "ipython",
        "version": 3
      },
      "file_extension": ".py",
      "mimetype": "text/x-python",
      "name": "python",
      "nbconvert_exporter": "python",
      "pygments_lexer": "ipython3",
      "version": "3.8.5"
    },
    "colab": {
      "name": "CNN_cifar10.ipynb",
      "provenance": [],
      "collapsed_sections": [
        "-8-B3x2tS5RR",
        "ywHCLzsRq1In",
        "IvQUxtPBSOF8",
        "VMh76UYMQ_Zu",
        "Pk307RtE4pHq"
      ],
      "include_colab_link": true
    }
  },
  "cells": [
    {
      "cell_type": "markdown",
      "metadata": {
        "id": "view-in-github",
        "colab_type": "text"
      },
      "source": [
        "<a href=\"https://colab.research.google.com/github/whynotkush/Algorithms/blob/master/CNN_cifar10.ipynb\" target=\"_parent\"><img src=\"https://colab.research.google.com/assets/colab-badge.svg\" alt=\"Open In Colab\"/></a>"
      ]
    },
    {
      "cell_type": "markdown",
      "metadata": {
        "id": "gBnW08ImKkqU"
      },
      "source": [
        "<h2 style='color:blue' align='center'>CIFAR-10 Image Classification Using Convolutional Neural Network (CNN)</h2>"
      ]
    },
    {
      "cell_type": "markdown",
      "metadata": {
        "id": "6kucA0-vKkqi"
      },
      "source": [
        "In this notebook, we will classify small images cifar10 dataset from tensorflow keras datasets. "
      ]
    },
    {
      "cell_type": "code",
      "metadata": {
        "id": "MXRoQO5GKkqm"
      },
      "source": [
        "import tensorflow as tf\n",
        "from tensorflow.keras import datasets, layers, models\n",
        "from keras.optimizers import SGD\n",
        "import numpy as np"
      ],
      "execution_count": 1,
      "outputs": []
    },
    {
      "cell_type": "markdown",
      "metadata": {
        "id": "g0hTpgnSKkqo"
      },
      "source": [
        "<h4 style=\"color:purple\">Load the dataset</h4>"
      ]
    },
    {
      "cell_type": "code",
      "metadata": {
        "colab": {
          "base_uri": "https://localhost:8080/"
        },
        "id": "hZo126WoKkqp",
        "outputId": "1edae80f-19a3-448a-e123-9c369e5c88ec"
      },
      "source": [
        "(X_train, y_train), (X_test,y_test) = datasets.cifar10.load_data()\n",
        "X_train.shape"
      ],
      "execution_count": 2,
      "outputs": [
        {
          "output_type": "stream",
          "text": [
            "Downloading data from https://www.cs.toronto.edu/~kriz/cifar-10-python.tar.gz\n",
            "170500096/170498071 [==============================] - 11s 0us/step\n"
          ],
          "name": "stdout"
        },
        {
          "output_type": "execute_result",
          "data": {
            "text/plain": [
              "(50000, 32, 32, 3)"
            ]
          },
          "metadata": {
            "tags": []
          },
          "execution_count": 2
        }
      ]
    },
    {
      "cell_type": "code",
      "metadata": {
        "scrolled": true,
        "colab": {
          "base_uri": "https://localhost:8080/"
        },
        "id": "aeXWZDSWKkq2",
        "outputId": "29a1488f-ef7f-422a-80c3-9ea000690194"
      },
      "source": [
        "y_train.shape"
      ],
      "execution_count": 3,
      "outputs": [
        {
          "output_type": "execute_result",
          "data": {
            "text/plain": [
              "(50000, 1)"
            ]
          },
          "metadata": {
            "tags": []
          },
          "execution_count": 3
        }
      ]
    },
    {
      "cell_type": "code",
      "metadata": {
        "id": "ComL3mB0eim_"
      },
      "source": [
        "train_labels = tf.keras.utils.to_categorical(y_train)\n",
        "test_labels = tf.keras.utils.to_categorical(y_test)"
      ],
      "execution_count": 4,
      "outputs": []
    },
    {
      "cell_type": "code",
      "metadata": {
        "colab": {
          "base_uri": "https://localhost:8080/"
        },
        "id": "u1pMicGAzOP6",
        "outputId": "7ebba3fd-528c-40c4-f55e-1f5fed17b04f"
      },
      "source": [
        "train_labels.shape"
      ],
      "execution_count": 44,
      "outputs": [
        {
          "output_type": "execute_result",
          "data": {
            "text/plain": [
              "(50000, 10)"
            ]
          },
          "metadata": {
            "tags": []
          },
          "execution_count": 44
        }
      ]
    },
    {
      "cell_type": "code",
      "metadata": {
        "id": "ykVtzmklKkq4"
      },
      "source": [
        "classes = [\"airplane\",\"automobile\",\"bird\",\"cat\",\"deer\",\"dog\",\"frog\",\"horse\",\"ship\",\"truck\"]"
      ],
      "execution_count": 5,
      "outputs": []
    },
    {
      "cell_type": "markdown",
      "metadata": {
        "id": "6iE2yE4zKkq5"
      },
      "source": [
        "Let's plot some images to see what they are "
      ]
    },
    {
      "cell_type": "code",
      "metadata": {
        "id": "JoIayeAtKkq5"
      },
      "source": [
        "def plot_sample(X, y, index):\n",
        "    plt.figure(figsize = (15,2))\n",
        "    plt.imshow(X[index])\n",
        "    plt.xlabel(classes[y[index][0]])"
      ],
      "execution_count": 36,
      "outputs": []
    },
    {
      "cell_type": "code",
      "metadata": {
        "scrolled": true,
        "colab": {
          "base_uri": "https://localhost:8080/",
          "height": 173
        },
        "id": "kFbtIZauKkq6",
        "outputId": "6b1909ca-d688-40b7-fc84-2df6640e6e8f"
      },
      "source": [
        "plot_sample(X_train, y_train, 0)"
      ],
      "execution_count": 37,
      "outputs": [
        {
          "output_type": "display_data",
          "data": {
            "image/png": "[encoded data removed]",
            "text/plain": [
              "<Figure size 1080x144 with 1 Axes>"
            ]
          },
          "metadata": {
            "tags": [],
            "needs_background": "light"
          }
        }
      ]
    },
    {
      "cell_type": "code",
      "metadata": {
        "colab": {
          "base_uri": "https://localhost:8080/",
          "height": 173
        },
        "id": "NyJlenefKkq7",
        "outputId": "12c888e1-013a-45d3-95c2-625268739961"
      },
      "source": [
        "plot_sample(X_train, y_train, 1)"
      ],
      "execution_count": 38,
      "outputs": [
        {
          "output_type": "display_data",
          "data": {
            "image/png": "[encoded data removed]",
            "text/plain": [
              "<Figure size 1080x144 with 1 Axes>"
            ]
          },
          "metadata": {
            "tags": [],
            "needs_background": "light"
          }
        }
      ]
    },
    {
      "cell_type": "markdown",
      "metadata": {
        "id": "nRjLIpOLKkq8"
      },
      "source": [
        "Normalize the images to a number from 0 to 1. Image has 3 channels (R,G,B) and each value in the channel can range from 0 to 255. Hence to normalize in 0-->1 range, we need to divide it by 255"
      ]
    },
    {
      "cell_type": "markdown",
      "metadata": {
        "id": "Q-NUfUZtKkq9"
      },
      "source": [
        "<h4 style=\"color:purple\">Normalizing the training data</h4>"
      ]
    },
    {
      "cell_type": "code",
      "metadata": {
        "id": "MT96kW5fKkq9"
      },
      "source": [
        "X_train = X_train / 255.0\n",
        "X_test = X_test / 255.0"
      ],
      "execution_count": 6,
      "outputs": []
    },
    {
      "cell_type": "markdown",
      "metadata": {
        "id": "t7U1xmm_KkrB"
      },
      "source": [
        "<h4 style=\"color:purple\">build a convolutional neural network to train our images</h4>"
      ]
    },
    {
      "cell_type": "markdown",
      "metadata": {
        "id": "-8-B3x2tS5RR"
      },
      "source": [
        "## No Batch Normalisation"
      ]
    },
    {
      "cell_type": "code",
      "metadata": {
        "id": "luUHCjtyTAtj"
      },
      "source": [
        "cnn0 = models.Sequential([\n",
        "    \n",
        "    #input layer\n",
        "    layers.Conv2D(filters=32, kernel_size=(3, 3), activation='relu', padding='same', input_shape=(32, 32, 3)),\n",
        "    layers.MaxPooling2D((2, 2)),\n",
        "    \n",
        "    #hidden layer\n",
        "    layers.Conv2D(filters=64, kernel_size=(3, 3), activation='relu'),\n",
        "    layers.MaxPooling2D((2, 2)),\n",
        "    \n",
        "    #output layer\n",
        "    layers.Flatten(),\n",
        "    layers.Dense(10, activation='softmax')\n",
        "])"
      ],
      "execution_count": 7,
      "outputs": []
    },
    {
      "cell_type": "code",
      "metadata": {
        "id": "GsC2EwNrTMCp"
      },
      "source": [
        "cnn0.compile(optimizer='SGD',\n",
        "              loss='categorical_crossentropy',\n",
        "              metrics=['accuracy'])"
      ],
      "execution_count": 8,
      "outputs": []
    },
    {
      "cell_type": "code",
      "metadata": {
        "colab": {
          "base_uri": "https://localhost:8080/"
        },
        "id": "ZqJaZKKITPvG",
        "outputId": "cda94738-d6a2-42e9-ffd9-8f41264ce1bd"
      },
      "source": [
        "cnn0.fit(X_train, train_labels, epochs=5,validation_data=(X_test, test_labels))"
      ],
      "execution_count": 9,
      "outputs": [
        {
          "output_type": "stream",
          "text": [
            "Epoch 1/5\n",
            "1563/1563 [==============================] - 60s 38ms/step - loss: 2.1244 - accuracy: 0.2192 - val_loss: 1.7986 - val_accuracy: 0.3702\n",
            "Epoch 2/5\n",
            "1563/1563 [==============================] - 59s 38ms/step - loss: 1.7134 - accuracy: 0.4014 - val_loss: 1.5775 - val_accuracy: 0.4438\n",
            "Epoch 3/5\n",
            "1563/1563 [==============================] - 60s 38ms/step - loss: 1.5092 - accuracy: 0.4642 - val_loss: 1.4151 - val_accuracy: 0.4960\n",
            "Epoch 4/5\n",
            "1563/1563 [==============================] - 59s 38ms/step - loss: 1.3962 - accuracy: 0.5090 - val_loss: 1.3550 - val_accuracy: 0.5330\n",
            "Epoch 5/5\n",
            "1563/1563 [==============================] - 59s 38ms/step - loss: 1.3098 - accuracy: 0.5427 - val_loss: 1.3259 - val_accuracy: 0.5392\n"
          ],
          "name": "stdout"
        },
        {
          "output_type": "execute_result",
          "data": {
            "text/plain": [
              "<tensorflow.python.keras.callbacks.History at 0x7f5a46282990>"
            ]
          },
          "metadata": {
            "tags": []
          },
          "execution_count": 9
        }
      ]
    },
    {
      "cell_type": "code",
      "metadata": {
        "colab": {
          "base_uri": "https://localhost:8080/"
        },
        "id": "12uXUZ8VTUIC",
        "outputId": "1de6817c-536b-4c3b-929c-296729c800fd"
      },
      "source": [
        "cnn0.evaluate(X_test,test_labels)"
      ],
      "execution_count": 10,
      "outputs": [
        {
          "output_type": "stream",
          "text": [
            "313/313 [==============================] - 4s 12ms/step - loss: 1.3259 - accuracy: 0.5392\n"
          ],
          "name": "stdout"
        },
        {
          "output_type": "execute_result",
          "data": {
            "text/plain": [
              "[1.3258980512619019, 0.5392000079154968]"
            ]
          },
          "metadata": {
            "tags": []
          },
          "execution_count": 10
        }
      ]
    },
    {
      "cell_type": "markdown",
      "metadata": {
        "id": "ywHCLzsRq1In"
      },
      "source": [
        "## 2 Dense Layer"
      ]
    },
    {
      "cell_type": "code",
      "metadata": {
        "id": "moqgQU-6q0SL"
      },
      "source": [
        "cnn1 = models.Sequential([\n",
        "    \n",
        "    #input layer\n",
        "    layers.Conv2D(filters=32, kernel_size=(3, 3), activation='relu', padding='same', input_shape=(32, 32, 3)),\n",
        "    layers.MaxPooling2D((2, 2)),\n",
        "    \n",
        "    #output layer\n",
        "    layers.Flatten(),\n",
        "    layers.Dense(10, activation='softmax')\n",
        "])"
      ],
      "execution_count": 11,
      "outputs": []
    },
    {
      "cell_type": "code",
      "metadata": {
        "id": "OkQs0qOSsFgZ"
      },
      "source": [
        "cnn1.compile(optimizer='SGD',\n",
        "              loss='categorical_crossentropy',\n",
        "              metrics=['accuracy'])"
      ],
      "execution_count": 12,
      "outputs": []
    },
    {
      "cell_type": "code",
      "metadata": {
        "colab": {
          "base_uri": "https://localhost:8080/"
        },
        "id": "tTo9LrVMsIv3",
        "outputId": "8e3fd323-af04-442f-fe87-c7162a0e9cc6"
      },
      "source": [
        "cnn1.fit(X_train, train_labels, epochs=5,validation_data=(X_test, test_labels))"
      ],
      "execution_count": 13,
      "outputs": [
        {
          "output_type": "stream",
          "text": [
            "Epoch 1/5\n",
            "1563/1563 [==============================] - 36s 23ms/step - loss: 2.0365 - accuracy: 0.2667 - val_loss: 1.6908 - val_accuracy: 0.4166\n",
            "Epoch 2/5\n",
            "1563/1563 [==============================] - 31s 20ms/step - loss: 1.6496 - accuracy: 0.4306 - val_loss: 1.5043 - val_accuracy: 0.4660\n",
            "Epoch 3/5\n",
            "1563/1563 [==============================] - 32s 20ms/step - loss: 1.4759 - accuracy: 0.4849 - val_loss: 1.4423 - val_accuracy: 0.5000\n",
            "Epoch 4/5\n",
            "1563/1563 [==============================] - 32s 20ms/step - loss: 1.3820 - accuracy: 0.5204 - val_loss: 1.3709 - val_accuracy: 0.5079\n",
            "Epoch 5/5\n",
            "1563/1563 [==============================] - 31s 20ms/step - loss: 1.3084 - accuracy: 0.5442 - val_loss: 1.3198 - val_accuracy: 0.5364\n"
          ],
          "name": "stdout"
        },
        {
          "output_type": "execute_result",
          "data": {
            "text/plain": [
              "<tensorflow.python.keras.callbacks.History at 0x7f5a3e58c410>"
            ]
          },
          "metadata": {
            "tags": []
          },
          "execution_count": 13
        }
      ]
    },
    {
      "cell_type": "code",
      "metadata": {
        "colab": {
          "base_uri": "https://localhost:8080/"
        },
        "id": "7AFF4as7sptt",
        "outputId": "0013c0ab-95b8-49c9-f7bd-82c490a0f68c"
      },
      "source": [
        "cnn1.evaluate(X_test,test_labels)"
      ],
      "execution_count": 14,
      "outputs": [
        {
          "output_type": "stream",
          "text": [
            "313/313 [==============================] - 2s 7ms/step - loss: 1.3198 - accuracy: 0.5364\n"
          ],
          "name": "stdout"
        },
        {
          "output_type": "execute_result",
          "data": {
            "text/plain": [
              "[1.3198277950286865, 0.5364000201225281]"
            ]
          },
          "metadata": {
            "tags": []
          },
          "execution_count": 14
        }
      ]
    },
    {
      "cell_type": "markdown",
      "metadata": {
        "id": "IvQUxtPBSOF8"
      },
      "source": [
        "## 2 blocks of Conv2D -> BatchNorm2D->MaxPooling2D"
      ]
    },
    {
      "cell_type": "code",
      "metadata": {
        "id": "u14PgjUhKkrC"
      },
      "source": [
        "cnn_2 = models.Sequential([\n",
        "    \n",
        "    #input layer\n",
        "    layers.Conv2D(filters=32, kernel_size=(3, 3), activation='relu', padding='same', input_shape=(32, 32, 3)),\n",
        "    layers.BatchNormalization(),\n",
        "    layers.MaxPooling2D((2, 2)),\n",
        "    \n",
        "    #hidden layer\n",
        "    layers.Conv2D(filters=64, kernel_size=(3, 3), padding='same', activation='relu'),\n",
        "    layers.BatchNormalization(),\n",
        "    layers.MaxPooling2D((2, 2)),\n",
        "    \n",
        "    #output layer\n",
        "    layers.Flatten(),\n",
        "    layers.Dense(64, activation='relu'),\n",
        "    layers.Dense(10, activation='softmax')\n",
        "])"
      ],
      "execution_count": 15,
      "outputs": []
    },
    {
      "cell_type": "code",
      "metadata": {
        "id": "7Ajgx6UwKkrD"
      },
      "source": [
        "cnn_2.compile(optimizer='SGD',\n",
        "              loss='categorical_crossentropy',\n",
        "              metrics=['accuracy'])"
      ],
      "execution_count": 16,
      "outputs": []
    },
    {
      "cell_type": "code",
      "metadata": {
        "scrolled": true,
        "colab": {
          "base_uri": "https://localhost:8080/"
        },
        "id": "0pkDGqm5KkrD",
        "outputId": "9d95627c-0f1c-4c4f-9d55-b9eb812ea4e5"
      },
      "source": [
        "history_2 = cnn_2.fit(X_train, train_labels, epochs=5,validation_data=(X_test, test_labels))"
      ],
      "execution_count": 18,
      "outputs": [
        {
          "output_type": "stream",
          "text": [
            "Epoch 1/5\n",
            "1563/1563 [==============================] - 62s 39ms/step - loss: 2.1418 - accuracy: 0.2108 - val_loss: 1.7216 - val_accuracy: 0.3797\n",
            "Epoch 2/5\n",
            "1563/1563 [==============================] - 61s 39ms/step - loss: 1.6785 - accuracy: 0.3989 - val_loss: 1.5538 - val_accuracy: 0.4422\n",
            "Epoch 3/5\n",
            "1563/1563 [==============================] - 61s 39ms/step - loss: 1.5058 - accuracy: 0.4590 - val_loss: 1.4272 - val_accuracy: 0.4973\n",
            "Epoch 4/5\n",
            "1563/1563 [==============================] - 61s 39ms/step - loss: 1.3638 - accuracy: 0.5166 - val_loss: 1.3255 - val_accuracy: 0.5308\n",
            "Epoch 5/5\n",
            "1563/1563 [==============================] - 61s 39ms/step - loss: 1.2526 - accuracy: 0.5555 - val_loss: 1.2201 - val_accuracy: 0.5667\n"
          ],
          "name": "stdout"
        }
      ]
    },
    {
      "cell_type": "code",
      "metadata": {
        "scrolled": true,
        "colab": {
          "base_uri": "https://localhost:8080/"
        },
        "id": "MCRXulE_KkrE",
        "outputId": "0232bd9d-d233-406a-c126-cdba8c1875bd"
      },
      "source": [
        "cnn_2.evaluate(X_test,test_labels)"
      ],
      "execution_count": 19,
      "outputs": [
        {
          "output_type": "stream",
          "text": [
            "313/313 [==============================] - 4s 12ms/step - loss: 1.2201 - accuracy: 0.5667\n"
          ],
          "name": "stdout"
        },
        {
          "output_type": "execute_result",
          "data": {
            "text/plain": [
              "[1.2201448678970337, 0.5666999816894531]"
            ]
          },
          "metadata": {
            "tags": []
          },
          "execution_count": 19
        }
      ]
    },
    {
      "cell_type": "code",
      "metadata": {
        "id": "aKx9_Fcy0Mzl"
      },
      "source": [
        "y_pred2 = cnn_2.predict(X_test)"
      ],
      "execution_count": 45,
      "outputs": []
    },
    {
      "cell_type": "markdown",
      "metadata": {
        "id": "SGPEbcNV2Fy1"
      },
      "source": [
        "***Our y_pred2 is in one-hot form***"
      ]
    },
    {
      "cell_type": "code",
      "metadata": {
        "colab": {
          "base_uri": "https://localhost:8080/"
        },
        "id": "a4D_MzQNKkrF",
        "outputId": "718b5646-c30f-44f8-9df1-ff8c7d09b41e"
      },
      "source": [
        "y_pred2.shape"
      ],
      "execution_count": 62,
      "outputs": [
        {
          "output_type": "execute_result",
          "data": {
            "text/plain": [
              "(10000, 1)"
            ]
          },
          "metadata": {
            "tags": []
          },
          "execution_count": 62
        }
      ]
    },
    {
      "cell_type": "markdown",
      "metadata": {
        "id": "a98dvwcQ2OJg"
      },
      "source": [
        "***Reverse Transforming the y_pred2 from one-hot form to numeric values***\n"
      ]
    },
    {
      "cell_type": "code",
      "metadata": {
        "id": "E6q9ebIN1Cky"
      },
      "source": [
        "y_pred2 = np.argmax(y_pred2,axis=-1)"
      ],
      "execution_count": 48,
      "outputs": []
    },
    {
      "cell_type": "markdown",
      "metadata": {
        "id": "rHGjhpXg3wFP"
      },
      "source": [
        "***Reshaping the y_pred from (10000,) to (10000,1)***"
      ]
    },
    {
      "cell_type": "code",
      "metadata": {
        "colab": {
          "base_uri": "https://localhost:8080/"
        },
        "id": "exkAM_fZ1uCv",
        "outputId": "f09984a8-21e7-47b0-d1de-580242c37549"
      },
      "source": [
        "y_pred2=y_pred2.reshape(len(y_pred2),1)\n",
        "y_pred2.shape"
      ],
      "execution_count": 57,
      "outputs": [
        {
          "output_type": "execute_result",
          "data": {
            "text/plain": [
              "(10000, 1)"
            ]
          },
          "metadata": {
            "tags": []
          },
          "execution_count": 57
        }
      ]
    },
    {
      "cell_type": "markdown",
      "metadata": {
        "id": "E2GdfaIp2myE"
      },
      "source": [
        "***Plotting predicted label for test image at index 3***"
      ]
    },
    {
      "cell_type": "code",
      "metadata": {
        "colab": {
          "base_uri": "https://localhost:8080/",
          "height": 173
        },
        "id": "qqIY8_fgKkrI",
        "outputId": "14254ee1-3d26-4481-bd4a-3f30f5f3181c"
      },
      "source": [
        "plot_sample(X_test, y_pred2,3)"
      ],
      "execution_count": 67,
      "outputs": [
        {
          "output_type": "display_data",
          "data": {
            "image/png": "[encoded data removed]",
            "text/plain": [
              "<Figure size 1080x144 with 1 Axes>"
            ]
          },
          "metadata": {
            "tags": [],
            "needs_background": "light"
          }
        }
      ]
    },
    {
      "cell_type": "markdown",
      "metadata": {
        "id": "VMh76UYMQ_Zu"
      },
      "source": [
        " ## 3 blocks of Conv2D -> BatchNorm2D->MaxPooling2D"
      ]
    },
    {
      "cell_type": "code",
      "metadata": {
        "id": "YpyAlCYsRWYg"
      },
      "source": [
        "cnn_3 = models.Sequential([\n",
        "    \n",
        "    #input layer\n",
        "    layers.Conv2D(filters=32, kernel_size=(3, 3), activation='relu', padding='same', input_shape=(32, 32, 3)),\n",
        "    layers.BatchNormalization(),\n",
        "    layers.MaxPooling2D((2, 2)),\n",
        "    \n",
        "    #hidden layer\n",
        "    layers.Conv2D(filters=64, kernel_size=(3, 3), activation='relu', padding='same'),\n",
        "    layers.BatchNormalization(),\n",
        "    layers.MaxPooling2D((2, 2)),\n",
        "\n",
        "    #hidden layer\n",
        "    layers.Conv2D(filters=64, kernel_size=(3, 3), activation='relu', padding='same'),\n",
        "    layers.BatchNormalization(),\n",
        "    layers.MaxPooling2D((2, 2)),\n",
        "    \n",
        "    #output layer\n",
        "    layers.Flatten(),\n",
        "    layers.Dense(64, activation='relu'),\n",
        "    layers.Dense(10, activation='softmax')\n",
        "])"
      ],
      "execution_count": 20,
      "outputs": []
    },
    {
      "cell_type": "code",
      "metadata": {
        "id": "ZAIQ19-ER7si"
      },
      "source": [
        "cnn_3.compile(optimizer='SGD',\n",
        "              loss='categorical_crossentropy',\n",
        "              metrics=['accuracy'])"
      ],
      "execution_count": 21,
      "outputs": []
    },
    {
      "cell_type": "code",
      "metadata": {
        "colab": {
          "base_uri": "https://localhost:8080/"
        },
        "id": "gKnhmAhoSEC3",
        "outputId": "b91dee4e-dda2-4421-f0e6-7e77911579d7"
      },
      "source": [
        "history_3 = cnn_3.fit(X_train, train_labels, epochs=5,validation_data=(X_test, test_labels))"
      ],
      "execution_count": 22,
      "outputs": [
        {
          "output_type": "stream",
          "text": [
            "Epoch 1/5\n",
            "1563/1563 [==============================] - 89s 57ms/step - loss: 1.7349 - accuracy: 0.3858 - val_loss: 2.2290 - val_accuracy: 0.2988\n",
            "Epoch 2/5\n",
            "1563/1563 [==============================] - 89s 57ms/step - loss: 1.2026 - accuracy: 0.5770 - val_loss: 1.2049 - val_accuracy: 0.5879\n",
            "Epoch 3/5\n",
            "1563/1563 [==============================] - 89s 57ms/step - loss: 1.0368 - accuracy: 0.6397 - val_loss: 1.3810 - val_accuracy: 0.5188\n",
            "Epoch 4/5\n",
            "1563/1563 [==============================] - 89s 57ms/step - loss: 0.9440 - accuracy: 0.6688 - val_loss: 1.0775 - val_accuracy: 0.6241\n",
            "Epoch 5/5\n",
            "1563/1563 [==============================] - 89s 57ms/step - loss: 0.8686 - accuracy: 0.6962 - val_loss: 1.0810 - val_accuracy: 0.6233\n"
          ],
          "name": "stdout"
        }
      ]
    },
    {
      "cell_type": "code",
      "metadata": {
        "colab": {
          "base_uri": "https://localhost:8080/"
        },
        "id": "Q4t9GLxrSLbg",
        "outputId": "5f2353ab-0e8a-435c-c85b-c69c62c88753"
      },
      "source": [
        "cnn_3.evaluate(X_test,test_labels)"
      ],
      "execution_count": 24,
      "outputs": [
        {
          "output_type": "stream",
          "text": [
            "313/313 [==============================] - 5s 15ms/step - loss: 1.0810 - accuracy: 0.6233\n"
          ],
          "name": "stdout"
        },
        {
          "output_type": "execute_result",
          "data": {
            "text/plain": [
              "[1.0810073614120483, 0.6233000159263611]"
            ]
          },
          "metadata": {
            "tags": []
          },
          "execution_count": 24
        }
      ]
    },
    {
      "cell_type": "code",
      "metadata": {
        "id": "puxoaynTv5k3"
      },
      "source": [
        "y_pred = cnn_3.predict(X_test)"
      ],
      "execution_count": 25,
      "outputs": []
    },
    {
      "cell_type": "markdown",
      "metadata": {
        "id": "jmKfoguK207C"
      },
      "source": [
        "***Our y_pred2 is in one-hot form***"
      ]
    },
    {
      "cell_type": "code",
      "metadata": {
        "colab": {
          "base_uri": "https://localhost:8080/"
        },
        "id": "k-DSUp5kyRQu",
        "outputId": "b4351ef3-23ea-4ca2-abb4-dc32b2b5c769"
      },
      "source": [
        "y_pred.shape"
      ],
      "execution_count": 40,
      "outputs": [
        {
          "output_type": "execute_result",
          "data": {
            "text/plain": [
              "(10000, 10)"
            ]
          },
          "metadata": {
            "tags": []
          },
          "execution_count": 40
        }
      ]
    },
    {
      "cell_type": "markdown",
      "metadata": {
        "id": "I6YMZ4Ao22XN"
      },
      "source": [
        "***Reverse Transforming the y_pred2 from one-hot form to numeric values***"
      ]
    },
    {
      "cell_type": "code",
      "metadata": {
        "id": "3W79IHgAyodH"
      },
      "source": [
        "y_pred = np.argmax(y_pred,axis=-1)"
      ],
      "execution_count": 63,
      "outputs": []
    },
    {
      "cell_type": "markdown",
      "metadata": {
        "id": "8mHb2cr_3fv5"
      },
      "source": [
        "***Reshaping the y_pred from (10000,) to (10000,1)***"
      ]
    },
    {
      "cell_type": "code",
      "metadata": {
        "colab": {
          "base_uri": "https://localhost:8080/"
        },
        "id": "ZwcuCRNL3O3F",
        "outputId": "45ea484f-0136-420f-d0c2-4938b0e740e0"
      },
      "source": [
        "y_pred=y_pred.reshape(len(y_pred),1)\n",
        "y_pred.shape"
      ],
      "execution_count": 65,
      "outputs": [
        {
          "output_type": "execute_result",
          "data": {
            "text/plain": [
              "(10000, 1)"
            ]
          },
          "metadata": {
            "tags": []
          },
          "execution_count": 65
        }
      ]
    },
    {
      "cell_type": "markdown",
      "metadata": {
        "id": "_Uy6oOzO3cXv"
      },
      "source": [
        "***Plotting predicted label for test image at index 3***"
      ]
    },
    {
      "cell_type": "code",
      "metadata": {
        "colab": {
          "base_uri": "https://localhost:8080/",
          "height": 173
        },
        "id": "VNuFfZYyxNb-",
        "outputId": "ab28ab1e-ad6d-4f02-c5a5-e813309fed0f"
      },
      "source": [
        "plot_sample(X_test, y_pred,3)"
      ],
      "execution_count": 66,
      "outputs": [
        {
          "output_type": "display_data",
          "data": {
            "image/png": "[encoded data removed]",
            "text/plain": [
              "<Figure size 1080x144 with 1 Axes>"
            ]
          },
          "metadata": {
            "tags": [],
            "needs_background": "light"
          }
        }
      ]
    },
    {
      "cell_type": "markdown",
      "metadata": {
        "id": "Pk307RtE4pHq"
      },
      "source": [
        "## Best Model"
      ]
    },
    {
      "cell_type": "markdown",
      "metadata": {
        "id": "t6GhTenn4sgD"
      },
      "source": [
        "**From the Accuracies of above models on 5 epochs, Our last model with 3 blocks of conv2D gave the best result**"
      ]
    },
    {
      "cell_type": "markdown",
      "metadata": {
        "id": "fBzkLgLP5Kmm"
      },
      "source": [
        "### plotting the accuracy vs epoch graph for our best model"
      ]
    },
    {
      "cell_type": "code",
      "metadata": {
        "colab": {
          "base_uri": "https://localhost:8080/",
          "height": 300
        },
        "id": "OOzAzJ1B5kgI",
        "outputId": "5d5ed9ab-e15a-48fa-b6ab-5ce97b4f537a"
      },
      "source": [
        "import matplotlib.pyplot as plt\n",
        "plt.plot(history_2.history['accuracy'], label='accuracy')\n",
        "plt.plot(history_2.history['val_accuracy'], label = 'val_accuracy')\n",
        "plt.xlabel('Epoch')\n",
        "plt.ylabel('Accuracy')\n",
        "plt.ylim([0.2, 1])\n",
        "plt.legend(loc='upper left')"
      ],
      "execution_count": 83,
      "outputs": [
        {
          "output_type": "execute_result",
          "data": {
            "text/plain": [
              "<matplotlib.legend.Legend at 0x7f5a324ae410>"
            ]
          },
          "metadata": {
            "tags": []
          },
          "execution_count": 83
        },
        {
          "output_type": "display_data",
          "data": {
            "image/png": "[encoded data removed]",
            "text/plain": [
              "<Figure size 432x288 with 1 Axes>"
            ]
          },
          "metadata": {
            "tags": [],
            "needs_background": "light"
          }
        }
      ]
    },
    {
      "cell_type": "markdown",
      "metadata": {
        "id": "Vzo1gErP80fa"
      },
      "source": [
        "### Model Summary"
      ]
    },
    {
      "cell_type": "code",
      "metadata": {
        "colab": {
          "base_uri": "https://localhost:8080/"
        },
        "id": "vJ1T0OId83ji",
        "outputId": "d9c205ae-7a72-4054-d3b9-d202bb4fb785"
      },
      "source": [
        "cnn_3.summary()"
      ],
      "execution_count": 84,
      "outputs": [
        {
          "output_type": "stream",
          "text": [
            "Model: \"sequential_3\"\n",
            "_________________________________________________________________\n",
            "Layer (type)                 Output Shape              Param #   \n",
            "=================================================================\n",
            "conv2d_5 (Conv2D)            (None, 30, 30, 32)        896       \n",
            "_________________________________________________________________\n",
            "batch_normalization (BatchNo (None, 30, 30, 32)        128       \n",
            "_________________________________________________________________\n",
            "max_pooling2d_5 (MaxPooling2 (None, 15, 15, 32)        0         \n",
            "_________________________________________________________________\n",
            "conv2d_6 (Conv2D)            (None, 13, 13, 64)        18496     \n",
            "_________________________________________________________________\n",
            "batch_normalization_1 (Batch (None, 13, 13, 64)        256       \n",
            "_________________________________________________________________\n",
            "max_pooling2d_6 (MaxPooling2 (None, 6, 6, 64)          0         \n",
            "_________________________________________________________________\n",
            "conv2d_7 (Conv2D)            (None, 4, 4, 64)          36928     \n",
            "_________________________________________________________________\n",
            "batch_normalization_2 (Batch (None, 4, 4, 64)          256       \n",
            "_________________________________________________________________\n",
            "max_pooling2d_7 (MaxPooling2 (None, 2, 2, 64)          0         \n",
            "_________________________________________________________________\n",
            "flatten_3 (Flatten)          (None, 256)               0         \n",
            "_________________________________________________________________\n",
            "dense_4 (Dense)              (None, 64)                16448     \n",
            "_________________________________________________________________\n",
            "dense_5 (Dense)              (None, 10)                650       \n",
            "=================================================================\n",
            "Total params: 74,058\n",
            "Trainable params: 73,738\n",
            "Non-trainable params: 320\n",
            "_________________________________________________________________\n"
          ],
          "name": "stdout"
        }
      ]
    }
  ]
}